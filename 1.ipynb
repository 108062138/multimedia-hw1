{
 "cells": [
  {
   "cell_type": "code",
   "execution_count": 1,
   "metadata": {},
   "outputs": [],
   "source": [
    "import cv2\n",
    "import numpy as np\n",
    "import os\n",
    "is_out_exist = os.path.exists('out')\n",
    "if not is_out_exist:\n",
    "    # Create a new directory because it does not exist\n",
    "    os.makedirs('out')\n",
    "    print(\"The new directory is created!\")"
   ]
  },
  {
   "cell_type": "code",
   "execution_count": 2,
   "metadata": {},
   "outputs": [],
   "source": [
    "def MSE(img1, img2):\n",
    "    #return np.sum((img1-img2)**2)/img1.shape[0]/img1.shape[1]/img1.shape[2]\n",
    "    return np.mean((img1 - img2) ** 2)    \n",
    "def show_image(img, name):\n",
    "    cv2.imshow(name, img)\n",
    "    cv2.waitKey(0)\n",
    "    cv2.destroyAllWindows()\n",
    "def test_color(pixel,colors):\n",
    "        inside_colors = False\n",
    "        for color in colors:\n",
    "            if color[0] == pixel[0] and color[1] == pixel[1] and color[2] == pixel[2]:\n",
    "                inside_colors = True\n",
    "        if inside_colors == False:\n",
    "            raise Exception('fuck up')"
   ]
  },
  {
   "cell_type": "code",
   "execution_count": 3,
   "metadata": {},
   "outputs": [],
   "source": [
    "def re_construct_img(new_img, original_img):\n",
    "    res = np.zeros(original_img.shape, dtype=np.uint8)\n",
    "    colors = []\n",
    "    for bin in new_img:\n",
    "        color = bin[0]\n",
    "        #print(color[0:3])\n",
    "        colors.append(color[0:3])\n",
    "        for pixel in bin:\n",
    "            if color[0]!=pixel[0] or color[1]!=pixel[1] or color[2]!=pixel[2]:\n",
    "                raise Exception(\"fuck up\")\n",
    "            res[pixel[3], pixel[4]] = color[0:3]\n",
    "    return res, colors\n",
    "def generate_indexed_img(img):\n",
    "    index_i_j = 2\n",
    "    img_with_index = np.zeros([img.shape[0],img.shape[1], img.shape[2]+index_i_j], dtype=int)\n",
    "    for i in range(img.shape[0]):\n",
    "        for j in range(img.shape[1]):\n",
    "            u = np.zeros([img.shape[2]+index_i_j], dtype=int)\n",
    "            u[0] = img[i,j,0]\n",
    "            u[1] = img[i,j,1]\n",
    "            u[2] = img[i,j,2]\n",
    "            u[3] = i\n",
    "            u[4] = j\n",
    "            img_with_index[i,j] = u\n",
    "    return img_with_index.reshape(-1, img_with_index.shape[2])\n",
    "def median_cut_quantization(img,current_level, n, bins):\n",
    "    #print('here',img.shape)\n",
    "    if current_level == n:\n",
    "        #find the mean of the img\n",
    "        rmean = np.mean(img[:,0])\n",
    "        gmean = np.mean(img[:,1])\n",
    "        bmean = np.mean(img[:,2])\n",
    "        #print('in max level ',img.shape, ' quantized color: ',rmean,gmean,bmean)\n",
    "        #print(img)\n",
    "        img[:,0] = rmean\n",
    "        img[:,1] = gmean\n",
    "        img[:,2] = bmean\n",
    "        #print(img)\n",
    "        \n",
    "        bins.append(img)\n",
    "        return\n",
    "    #find the longest side of the img\n",
    "    def find_widest_side(img):\n",
    "        r_gap = np.max(img[:,0]) - np.min(img[:,0])\n",
    "        g_gap = np.max(img[:,1]) - np.min(img[:,1])\n",
    "        b_gap = np.max(img[:,2]) - np.min(img[:,2])\n",
    "        if r_gap >=g_gap and r_gap>=b_gap:\n",
    "            return 0\n",
    "        elif g_gap >=r_gap and g_gap>=b_gap:\n",
    "            return 1\n",
    "        else:\n",
    "            return 2\n",
    "    widest_side_color = find_widest_side(img)\n",
    "    \n",
    "    #find the median\n",
    "    widest_side = img[:,widest_side_color]\n",
    "    sorted_widest_side = np.sort(widest_side)\n",
    "    median = sorted_widest_side[int(sorted_widest_side.shape[0]/2)]\n",
    "    \n",
    "    #split the img into two parts\n",
    "    cub_a = img[img[:,widest_side_color]<=median]\n",
    "    cub_b = img[img[:,widest_side_color]>median]\n",
    "    #recursive call the function\n",
    "    median_cut_quantization(cub_a,current_level+1,n,bins)\n",
    "    median_cut_quantization(cub_b,current_level+1,n,bins)\n",
    "def ordered_dither(img, dither_matrix):\n",
    "    res = np.zeros(img.shape, dtype=int)\n",
    "    for i in range(img.shape[0]):\n",
    "        for j in range(img.shape[1]):\n",
    "            for k in range(img.shape[2]):\n",
    "                if img[i,j,k] > dither_matrix[i%dither_matrix.shape[0],j%dither_matrix.shape[1]]:\n",
    "                    res[i,j,k] = 255\n",
    "                else:\n",
    "                    res[i,j,k] = 0\n",
    "    return res\n",
    "def diffusion_dither(img, colors):\n",
    "    def pick_closest_color(pixel,colors):\n",
    "        min_distance = 255*255*3\n",
    "        if len(colors) == 0:\n",
    "            raise Exception(\"no color\")\n",
    "        for color in colors:\n",
    "            color_distance = np.sum((pixel-color)**2)\n",
    "            if color_distance < min_distance:\n",
    "                min_distance = color_distance\n",
    "                closest_color = color\n",
    "        return closest_color\n",
    "\n",
    "    res = img.copy().astype(float)\n",
    "    \n",
    "    for i in range(res.shape[0]):\n",
    "        for j in range(res.shape[1]):\n",
    "            target_color = pick_closest_color(res[i,j],colors)\n",
    "            test_color(target_color,colors)\n",
    "            for channel in range(3):#rgb\n",
    "                error = img[i,j,channel] - target_color[channel]\n",
    "                if j+1 < res.shape[1]:\n",
    "                    res[i,j+1,channel] = res[i,j+1,channel] + error*7/16\n",
    "                if i+1 < res.shape[0]:\n",
    "                    res[i+1,j,channel] = res[i+1,j,channel] + error*5/16\n",
    "                if i+1 < res.shape[0] and j-1 >= 0:\n",
    "                    res[i+1,j-1,channel] = res[i+1,j-1,channel] + error*3/16\n",
    "                if i+1 < res.shape[0] and j+1 < res.shape[1]:\n",
    "                    res[i+1,j+1,channel] = res[i+1,j+1,channel] + error*1/16\n",
    "            res[i,j] = target_color\n",
    "            test_color(res[i,j],colors)\n",
    "    return res.astype(np.uint8)\n",
    "\n",
    "def test_color(pixel,colors):\n",
    "        inside_colors = False\n",
    "        for color in colors:\n",
    "            if color[0] == pixel[0] and color[1] == pixel[1] and color[2] == pixel[2]:\n",
    "                inside_colors = True\n",
    "        if inside_colors == False:\n",
    "            raise Exception('fuck up')"
   ]
  },
  {
   "cell_type": "code",
   "execution_count": 4,
   "metadata": {},
   "outputs": [],
   "source": [
    "target_image = '.\\\\img\\\\Lenna.jpg'\n",
    "img = cv2.imread(target_image, cv2.IMREAD_COLOR)\n",
    "indexed_image = generate_indexed_img(img)"
   ]
  },
  {
   "attachments": {},
   "cell_type": "markdown",
   "metadata": {},
   "source": [
    "## define `n`, which sets the color box's size"
   ]
  },
  {
   "cell_type": "code",
   "execution_count": 11,
   "metadata": {},
   "outputs": [],
   "source": [
    "n = 3 #change this to change the number of colors"
   ]
  },
  {
   "cell_type": "code",
   "execution_count": 12,
   "metadata": {},
   "outputs": [
    {
     "name": "stdout",
     "output_type": "stream",
     "text": [
      "mse in n = 3 after the image are quantized by median cut: 66.89740559739359\n"
     ]
    }
   ],
   "source": [
    "bins = []\n",
    "median_cut_quantization(indexed_image,0,n,bins)\n",
    "median_cut_quantization_img, colors = re_construct_img(bins,img)\n",
    "print('mse ' +'in n = '+str(n)+' after the image are quantized by median cut: {}'.format(MSE(img, median_cut_quantization_img)))"
   ]
  },
  {
   "cell_type": "code",
   "execution_count": 13,
   "metadata": {},
   "outputs": [
    {
     "name": "stdout",
     "output_type": "stream",
     "text": [
      "mse in n = 3 after the image are quantized by median cut with the help of diffusion dithering: 67.38919711050579\n"
     ]
    }
   ],
   "source": [
    "diffusion_dither_img = diffusion_dither(img, colors)\n",
    "#show_image(diffusion_dither_img, 'error diffusion dithering')\n",
    "img = cv2.imread(target_image, cv2.IMREAD_COLOR)\n",
    "print('mse ' +'in n = '+str(n)+' after the image are quantized by median cut with the help of diffusion dithering: {}'.format(MSE(img, diffusion_dither_img)))"
   ]
  },
  {
   "cell_type": "code",
   "execution_count": 14,
   "metadata": {},
   "outputs": [
    {
     "data": {
      "text/plain": [
       "True"
      ]
     },
     "execution_count": 14,
     "metadata": {},
     "output_type": "execute_result"
    }
   ],
   "source": [
    "cv2.imwrite('.\\\\out\\\\median_cut'+ str(n) +'.png', median_cut_quantization_img)\n",
    "cv2.imwrite('.\\\\out\\\\error_diffusion_dithering_' + str(n) +'.png', diffusion_dither_img)"
   ]
  },
  {
   "attachments": {},
   "cell_type": "markdown",
   "metadata": {},
   "source": [
    "## verify the saved image and output mse with `test_color`"
   ]
  },
  {
   "cell_type": "code",
   "execution_count": 15,
   "metadata": {},
   "outputs": [
    {
     "name": "stdout",
     "output_type": "stream",
     "text": [
      "[62 24 99]\n",
      "[ 89  48 116]\n",
      "[ 78  67 175]\n",
      "[ 95  88 191]\n",
      "[119 117 193]\n",
      "[107 117 222]\n",
      "[127 151 225]\n",
      "[169 187 226]\n"
     ]
    }
   ],
   "source": [
    "for color in colors:\n",
    "    print(color)"
   ]
  },
  {
   "cell_type": "code",
   "execution_count": 16,
   "metadata": {},
   "outputs": [
    {
     "name": "stdout",
     "output_type": "stream",
     "text": [
      "mse median_cut3.png : 66.94910671366767\n",
      "mse error_diffusion_dithering_3.png : 67.38919711050579\n"
     ]
    }
   ],
   "source": [
    "original_img = cv2.imread('.\\\\img\\\\Lenna.jpg', cv2.IMREAD_COLOR)\n",
    "for name in ['median_cut'+ str(n) +'.png', 'error_diffusion_dithering_'+str(n)+'.png']:\n",
    "    output_dir = '.\\\\out\\\\'\n",
    "    img = cv2.imread(output_dir+name, cv2.IMREAD_COLOR)\n",
    "    #print(img)\n",
    "    for i in range(img.shape[0]):\n",
    "        for j in range(img.shape[1]):\n",
    "            test_color(img[i,j],colors)\n",
    "    print('mse ' + name +' : {}'.format(MSE(img, original_img)))\n",
    "    #show_image(img, name)"
   ]
  },
  {
   "cell_type": "code",
   "execution_count": null,
   "metadata": {},
   "outputs": [],
   "source": []
  }
 ],
 "metadata": {
  "kernelspec": {
   "display_name": "tf2.5",
   "language": "python",
   "name": "python3"
  },
  "language_info": {
   "codemirror_mode": {
    "name": "ipython",
    "version": 3
   },
   "file_extension": ".py",
   "mimetype": "text/x-python",
   "name": "python",
   "nbconvert_exporter": "python",
   "pygments_lexer": "ipython3",
   "version": "3.8.15"
  },
  "orig_nbformat": 4
 },
 "nbformat": 4,
 "nbformat_minor": 2
}
