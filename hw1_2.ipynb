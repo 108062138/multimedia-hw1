{
 "cells": [
  {
   "cell_type": "code",
   "execution_count": 1,
   "metadata": {},
   "outputs": [],
   "source": [
    "import cv2\n",
    "import numpy as np\n",
    "import os"
   ]
  },
  {
   "cell_type": "code",
   "execution_count": 2,
   "metadata": {},
   "outputs": [],
   "source": [
    "def nearest_neighbor_interpolation(img,n):\n",
    "    height, width, channel = img.shape\n",
    "    new_height = height * n\n",
    "    new_width = width * n\n",
    "    res = np.zeros((new_height, new_width, channel), dtype=np.uint8)\n",
    "    for i in range(new_height):\n",
    "        for j in range(new_width):\n",
    "            res[i,j] = img[int(i/n),int(j/n)]\n",
    "    return res\n",
    "def bilinear_interpolation(img,n):\n",
    "    height, width, channel = img.shape\n",
    "    new_height = height * n\n",
    "    new_width = width * n\n",
    "    res = np.zeros((new_height, new_width, channel), dtype=np.uint8)\n",
    "    \n",
    "    def get_coef(lu,ld,ru,rd,i,j,n):\n",
    "        orig_i = i/n\n",
    "        orig_j = j/n\n",
    "        h1 = orig_i - lu[0]\n",
    "        h2 = ld[0] - orig_i\n",
    "        w1 = orig_j - lu[1]\n",
    "        w2 = ru[1] - orig_j\n",
    "        return h1*w1, h1*w2, h2*w1, h2*w2\n",
    "    \n",
    "    for i in range(new_height):\n",
    "        for j in range(new_width):\n",
    "            lu = np.floor([i/n,j/n]).astype(int)\n",
    "            ru = np.floor([i/n,j/n+1]).astype(int)\n",
    "            ld = np.floor([i/n+1,j/n]).astype(int)\n",
    "            rd = np.floor([i/n+1,j/n+1]).astype(int)\n",
    "            if ru[1] >= width:\n",
    "                ru[1] = width - 1\n",
    "            if ld[0] >= height:\n",
    "                ld[0] = height - 1\n",
    "            if rd[0] >= height:\n",
    "                rd[0] = height - 1\n",
    "            if rd[1] >= width:\n",
    "                rd[1] = width - 1\n",
    "            if lu[0] <0 or lu[1] <0 or ru[0] <0 or ru[1] >=width or ld[0] >= height or ld[1] <0 or rd[0] >= height or rd[1] >= width:\n",
    "                raise Exception(\"fuck up\")\n",
    "            coe_rd, coe_ld, coe_ru, coe_lu = get_coef(lu,ld,ru,rd,i,j,n)\n",
    "            res[i,j] = coe_rd*img[rd[0],rd[1]] + coe_ld*img[ld[0],ld[1]] + coe_ru*img[ru[0],ru[1]] + coe_lu*img[lu[0],lu[1]]\n",
    "    return res"
   ]
  },
  {
   "cell_type": "code",
   "execution_count": 3,
   "metadata": {},
   "outputs": [
    {
     "name": "stdout",
     "output_type": "stream",
     "text": [
      "(56, 56, 3)\n"
     ]
    }
   ],
   "source": [
    "#define interpolate rate\n",
    "n = 4\n",
    "target_image = '.\\\\img\\\\bee.jpg'\n",
    "img = cv2.imread(target_image, cv2.IMREAD_COLOR)\n",
    "print(img.shape)"
   ]
  },
  {
   "cell_type": "code",
   "execution_count": 4,
   "metadata": {},
   "outputs": [
    {
     "data": {
      "text/plain": [
       "True"
      ]
     },
     "execution_count": 4,
     "metadata": {},
     "output_type": "execute_result"
    }
   ],
   "source": [
    "is_out_exist = os.path.exists('out')\n",
    "if not is_out_exist:\n",
    "    # Create a new directory because it does not exist\n",
    "    os.makedirs('out')\n",
    "    print(\"The new directory is created!\")\n",
    "nearest_neighbor_interpolation_result = nearest_neighbor_interpolation(img,n)\n",
    "bilinear_interpolation_result = bilinear_interpolation(img,n)\n",
    "cv2.imwrite('.\\\\out\\\\nearest_neighbor_interpolation_result.jpg', nearest_neighbor_interpolation_result)\n",
    "cv2.imwrite('.\\\\out\\\\bilinear_interpolation_result.jpg', bilinear_interpolation_result)"
   ]
  }
 ],
 "metadata": {
  "kernelspec": {
   "display_name": "tf2.5",
   "language": "python",
   "name": "python3"
  },
  "language_info": {
   "codemirror_mode": {
    "name": "ipython",
    "version": 3
   },
   "file_extension": ".py",
   "mimetype": "text/x-python",
   "name": "python",
   "nbconvert_exporter": "python",
   "pygments_lexer": "ipython3",
   "version": "3.8.15"
  },
  "orig_nbformat": 4
 },
 "nbformat": 4,
 "nbformat_minor": 2
}
